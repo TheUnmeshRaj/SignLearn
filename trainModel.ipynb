{
 "cells": [
  {
   "cell_type": "code",
   "execution_count": 1,
   "id": "ec9d6113",
   "metadata": {},
   "outputs": [],
   "source": [
    "# !pip install torch torchvision matplotlib"
   ]
  },
  {
   "cell_type": "code",
   "execution_count": null,
   "id": "80d4202b",
   "metadata": {},
   "outputs": [
    {
     "name": "stdout",
     "output_type": "stream",
     "text": [
      "Epoch 1/40 - Loss: 0.3158 - Acc: 0.9317\n",
      "Epoch 2/40 - Loss: 0.0140 - Acc: 0.9983\n",
      "Epoch 3/40 - Loss: 0.0080 - Acc: 1.0000\n",
      "Epoch 4/40 - Loss: 0.0042 - Acc: 1.0000\n",
      "Epoch 5/40 - Loss: 0.0061 - Acc: 1.0000\n",
      "Epoch 6/40 - Loss: 0.0105 - Acc: 0.9967\n",
      "Epoch 7/40 - Loss: 0.0112 - Acc: 0.9983\n",
      "Epoch 8/40 - Loss: 0.0022 - Acc: 1.0000\n"
     ]
    }
   ],
   "source": [
    "import os\n",
    "import torch\n",
    "import torch.nn as nn\n",
    "import torch.optim as optim\n",
    "from torchvision import datasets, transforms, models\n",
    "from torch.utils.data import DataLoader\n",
    "\n",
    "# === Setup ===\n",
    "data_dir = \"alphabets(Learn G-L)\"\n",
    "num_classes = 6\n",
    "batch_size = 16\n",
    "epochs = 40\n",
    "device = torch.device(\"cpu\")\n",
    "\n",
    "# === Data ===\n",
    "transform = transforms.Compose([\n",
    "    transforms.Resize((224, 224)),\n",
    "    transforms.RandomRotation(10),\n",
    "    transforms.ColorJitter(brightness=0.3, contrast=0.3),\n",
    "    transforms.RandomHorizontalFlip(),\n",
    "    transforms.ToTensor(),\n",
    "    transforms.Normalize([0.485, 0.456, 0.406],\n",
    "                         [0.229, 0.224, 0.225])\n",
    "])\n",
    "\n",
    "\n",
    "dataset = datasets.ImageFolder(data_dir, transform=transform)\n",
    "dataloader = DataLoader(dataset, batch_size=batch_size, shuffle=True)\n",
    "class_names = dataset.classes\n",
    "\n",
    "# === Model ===\n",
    "model = models.resnet18(pretrained=True)\n",
    "model.fc = nn.Linear(model.fc.in_features, num_classes)\n",
    "model = model.to(device)\n",
    "\n",
    "criterion = nn.CrossEntropyLoss()\n",
    "optimizer = optim.Adam(model.parameters(), lr=1e-4)\n",
    "\n",
    "# === Training Loop ===\n",
    "best_acc = 0.0\n",
    "best_loss = float('inf')\n",
    "for epoch in range(epochs):\n",
    "    model.train()\n",
    "    running_loss = 0\n",
    "    correct = 0\n",
    "    total = 0\n",
    "\n",
    "    for inputs, labels in dataloader:\n",
    "        inputs, labels = inputs.to(device), labels.to(device)\n",
    "        optimizer.zero_grad()\n",
    "        outputs = model(inputs)\n",
    "        loss = criterion(outputs, labels)\n",
    "        loss.backward()\n",
    "        optimizer.step()\n",
    "\n",
    "        running_loss += loss.item() * inputs.size(0)\n",
    "        _, preds = torch.max(outputs, 1)\n",
    "        correct += (preds == labels).sum().item()\n",
    "        total += labels.size(0)\n",
    "\n",
    "    epoch_loss = running_loss / total\n",
    "    epoch_acc = correct / total\n",
    "    print(f\"Epoch {epoch+1}/{epochs} - Loss: {epoch_loss:.4f} - Acc: {epoch_acc:.4f}\")\n",
    "\n",
    "    if (epoch + 1) % 5 == 0:\n",
    "        torch.save(model.state_dict(), f\"isl_epoch_{epoch+1}.pth\")\n",
    "\n",
    "    if (epoch_acc > best_acc) or (epoch_acc == best_acc and epoch_loss < best_loss):\n",
    "        best_acc = epoch_acc\n",
    "        best_loss = epoch_loss\n",
    "        torch.save(model.state_dict(), \"alphabet6_best.pth\")\n"
   ]
  }
 ],
 "metadata": {
  "kernelspec": {
   "display_name": "sign",
   "language": "python",
   "name": "python3"
  },
  "language_info": {
   "codemirror_mode": {
    "name": "ipython",
    "version": 3
   },
   "file_extension": ".py",
   "mimetype": "text/x-python",
   "name": "python",
   "nbconvert_exporter": "python",
   "pygments_lexer": "ipython3",
   "version": "3.11.13"
  }
 },
 "nbformat": 4,
 "nbformat_minor": 5
}
